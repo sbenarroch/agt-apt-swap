{
 "cells": [
  {
   "cell_type": "code",
   "execution_count": 7,
   "metadata": {},
   "outputs": [],
   "source": [
    "import requests\n",
    "from bs4 import BeautifulSoup"
   ]
  },
  {
   "cell_type": "code",
   "execution_count": 8,
   "metadata": {},
   "outputs": [],
   "source": [
    "URL = 'https://www.tauschwohnung.com/login'\n",
    "\n",
    "cookies = {\n",
    "    '_pk_id.1.3aa3': 'efce13a6140ddc5c.1683740292',\n",
    "    'tauschwohnung': 'f5857706a5a85b28ec1a97a517ce8e478158582b',\n",
    "    '_pk_ses.1.3aa3': '%2A',\n",
    "    '_pk_cvar.1.3aa3': '%5B%5D',\n",
    "}\n",
    "\n",
    "headers = {\n",
    "    'User-Agent': 'Mozilla/5.0 (Macintosh; Intel Mac OS X 10.15; rv:109.0) Gecko/20100101 Firefox/113.0',\n",
    "    'Accept': 'text/html,application/xhtml+xml,application/xml;q=0.9,image/avif,image/webp,*/*;q=0.8',\n",
    "    'Accept-Language': 'en-US,en;q=0.5',\n",
    "    'Accept-Encoding': 'gzip, deflate, br',\n",
    "    'Content-Type': 'application/x-www-form-urlencoded',\n",
    "    'Origin': 'https://www.tauschwohnung.com',\n",
    "    'Connection': 'keep-alive',\n",
    "    'Referer': 'https://www.tauschwohnung.com/login',\n",
    "    'Upgrade-Insecure-Requests': '1',\n",
    "    'Sec-Fetch-Dest': 'document',\n",
    "    'Sec-Fetch-Mode': 'navigate',\n",
    "    'Sec-Fetch-Site': 'same-origin',\n",
    "    'Sec-Fetch-User': '?1',\n",
    "    'TE': 'trailers',\n",
    "}\n",
    "\n",
    "data = {\n",
    "  'csrf': 'AsI2tlPXkDQ6oPccUUASjut23',\n",
    "  'email': 'sacha.benarroch-lelong@tuhh.de',\n",
    "  'password': 'agt-project2023'\n",
    "}\n"
   ]
  },
  {
   "cell_type": "code",
   "execution_count": 9,
   "metadata": {},
   "outputs": [],
   "source": [
    "s = requests.session()\n",
    "login_req = s.post(URL, headers=headers, cookies=cookies, data=data)"
   ]
  },
  {
   "attachments": {},
   "cell_type": "markdown",
   "metadata": {},
   "source": [
    "# Berlin"
   ]
  },
  {
   "cell_type": "code",
   "execution_count": 11,
   "metadata": {},
   "outputs": [],
   "source": [
    "SEARCH_URL = 'https://www.tauschwohnung.com/search'\n",
    "\n",
    "cookies = {\n",
    "    '_pk_id.1.3aa3': 'efce13a6140ddc5c.1683740292',\n",
    "    'tauschwohnung': 'f5857706a5a85b28ec1a97a517ce8e478158582b',\n",
    "    '_pk_ses.1.3aa3': '%2A',\n",
    "    '_pk_cvar.1.3aa3': '%5B%5D',\n",
    "}\n",
    "\n",
    "headers = {\n",
    "    'User-Agent': 'Mozilla/5.0 (Macintosh; Intel Mac OS X 10.15; rv:109.0) Gecko/20100101 Firefox/113.0',\n",
    "    'Accept': 'text/html,application/xhtml+xml,application/xml;q=0.9,image/avif,image/webp,*/*;q=0.8',\n",
    "    'Accept-Language': 'en-US,en;q=0.5',\n",
    "    'Accept-Encoding': 'gzip, deflate, br',\n",
    "    'Content-Type': 'application/x-www-form-urlencoded',\n",
    "    'Origin': 'https://www.tauschwohnung.com',\n",
    "    'Connection': 'keep-alive',\n",
    "    'Referer': 'https://www.tauschwohnung.com/search',\n",
    "    'Upgrade-Insecure-Requests': '1',\n",
    "    'Sec-Fetch-Dest': 'document',\n",
    "    'Sec-Fetch-Mode': 'navigate',\n",
    "    'Sec-Fetch-Site': 'same-origin',\n",
    "    'Sec-Fetch-User': '?1',\n",
    "    'TE': 'trailers',\n",
    "}\n",
    "\n",
    "data = {\n",
    "  'type': '1',\n",
    "  'geoIds': '5165,5166,5167,5168,5169,5170,5171,5172,5173,5174,5175,5176,5177,5180,5181,5182,5183,5184,5191,5193,5194,5196,5197,5202,5203,5204,5205,5206,5207,5208,5209,5210,5211,5212,5213,5214,5215,5216,5217,5218,5219,5220,5221,5223,5224,5225,5226,5227,5228,5229,5230,5231,5232,5233,5234,5235,5236,5237,5238,5239,5240,5241,5242,5243,5244,5245,5246,5247,5248,5249,5250,5251,5252,5253,5254,5255,5256,5257,5258,5259,5260,5261,5262,5263,5264,5265,5266,5267,5268,5269,5270,5271,5272,5273,5275,5276,5277,5278,5279,5290,5293,5294,5298,5299,5300,5302,5303,5304,5305,5306,5307,5308,5309,5310,5312,5313,5314,5315,5325,5326,5327,5329,5330,5331,5332,5333,5334,5335,5336,5337,5338,5339,5340,5341,5342,5343,5344,5345,5346,5347,5348,5349,5350,5351,5352,5353,5354,5355,5356,5363,5364,5371,5372,5373,5374,5375,5377,5379,5380,5381,5382,5383,5384,5393,5394,5396,5397,5398,5408,5410,5413,5414,5415,5416,5417,5418,5426,5427,5428,5432,5434,5436,5437,5439,5440,5441,5447,5450,5451,5452,5453,5454,5455,5458,5459,5460,5461,5462,5463,5464,5465,5466,5467,5468,5469,5470,5471,5474,5475,5476,5477,5478,5479,5482,5483,5484,5485,5486,5487,5488,5491,5492,5493,5494,5495,5496,5498,5499,5500,5505,5506,5507,5517,5518,5519,5520,5521,5529,5538,5540,5541,5542,5549,5550,5551,5552,5558,5559,5560,5563,5568,5569,5570,5571,5572,5574,5578,5581,5582,5583,5584,5585,5586,5592,5593,5594,5595,5596,5599,5600,5603,5604,5605,5606,5607,5608,5609,5610,5611,5614,5615,5616,5617,5618,5622,5623,5624,5625,5628,5629,5632,5633,5634,5641,5642,5644,5645,5646,5650,5651,5655,5657,5658,5661,5662,5663,5665,5666,5667,5673,5674,5675,5676,5677,5684,5685,5686,5687,5704,5705,5716,5717,5718,5719,5727,5728,5729,5730,5731,5732,5733,5735,5736,5737,5738,5739,5740,5741,5742,5744,5745,5747,5748,5750,5751,5752,5755,5756,5757,5758,5759,5760,5761,5762,5763,5764,5765,5766,5767,5768,5769,5770,5772,5773,5779,5780',\n",
    "  'tw-multiselect-search-input': '',\n",
    "  'radius': '0',\n",
    "  'rentMax': '',\n",
    "  'roomsMin': '1',\n",
    "  'sizeMin': '',\n",
    "  'moveInDate': '0',\n",
    "  'moveOutDate': '0',\n",
    "  'propertySizeMin': '',\n",
    "  'flatSizeMin': '',\n",
    "  'storeyMin': '0',\n",
    "  'storeyMax': '10',\n",
    "  'flatmatesAgeMin': '1',\n",
    "  'flatmatesAgeMax': '120',\n",
    "  'flatmatesCountMin': '1',\n",
    "  'flatmatesCountMax': '20',\n",
    "  'constructionYearMin': '900',\n",
    "  'constructionYearMax': '2050'\n",
    "}\n",
    "\n",
    "berlin = s.post(SEARCH_URL, headers=headers, cookies=cookies, data=data)"
   ]
  },
  {
   "cell_type": "code",
   "execution_count": 25,
   "metadata": {},
   "outputs": [],
   "source": [
    "berlin = s.get('https://www.tauschwohnung.com/search/result?city=Berlin&housing_type=1&rooms_min=1&storey_min=-1&storey_max=10&sort=standard&page=1')"
   ]
  },
  {
   "cell_type": "code",
   "execution_count": 26,
   "metadata": {},
   "outputs": [],
   "source": [
    "soup = BeautifulSoup(berlin.text, 'html.parser')"
   ]
  },
  {
   "cell_type": "code",
   "execution_count": 23,
   "metadata": {},
   "outputs": [],
   "source": [
    "berlin_links = soup.find_all('a', class_ = 'stretched-link embed-responsive embed-responsive-4by3')\n",
    "links = []\n",
    "for link in berlin_links:\n",
    "    links.append(link['href'])"
   ]
  },
  {
   "cell_type": "code",
   "execution_count": 27,
   "metadata": {},
   "outputs": [],
   "source": [
    "page_links = soup.find_all('a', class_ = 'page-link')"
   ]
  },
  {
   "cell_type": "code",
   "execution_count": 33,
   "metadata": {},
   "outputs": [],
   "source": [
    "max_pages = int(page_links[-2].text)"
   ]
  },
  {
   "cell_type": "code",
   "execution_count": null,
   "metadata": {},
   "outputs": [],
   "source": [
    "for page in "
   ]
  }
 ],
 "metadata": {
  "kernelspec": {
   "display_name": ".venv",
   "language": "python",
   "name": "python3"
  },
  "language_info": {
   "codemirror_mode": {
    "name": "ipython",
    "version": 3
   },
   "file_extension": ".py",
   "mimetype": "text/x-python",
   "name": "python",
   "nbconvert_exporter": "python",
   "pygments_lexer": "ipython3",
   "version": "3.9.0"
  },
  "orig_nbformat": 4
 },
 "nbformat": 4,
 "nbformat_minor": 2
}
