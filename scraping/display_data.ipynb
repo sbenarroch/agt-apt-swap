{
 "cells": [
  {
   "cell_type": "code",
   "execution_count": 3,
   "metadata": {},
   "outputs": [],
   "source": [
    "import pandas as pd\n",
    "import seaborn as sns\n",
    "import numpy as np"
   ]
  },
  {
   "cell_type": "code",
   "execution_count": 15,
   "metadata": {},
   "outputs": [
    {
     "data": {
      "text/html": [
       "<div>\n",
       "<style scoped>\n",
       "    .dataframe tbody tr th:only-of-type {\n",
       "        vertical-align: middle;\n",
       "    }\n",
       "\n",
       "    .dataframe tbody tr th {\n",
       "        vertical-align: top;\n",
       "    }\n",
       "\n",
       "    .dataframe thead th {\n",
       "        text-align: right;\n",
       "    }\n",
       "</style>\n",
       "<table border=\"1\" class=\"dataframe\">\n",
       "  <thead>\n",
       "    <tr style=\"text-align: right;\">\n",
       "      <th></th>\n",
       "      <th>g-city</th>\n",
       "      <th>g-rent</th>\n",
       "      <th>g-surf</th>\n",
       "      <th>g-rooms</th>\n",
       "      <th>t-city</th>\n",
       "      <th>t-max-rent</th>\n",
       "      <th>t-surf-min</th>\n",
       "      <th>t-rooms</th>\n",
       "    </tr>\n",
       "  </thead>\n",
       "  <tbody>\n",
       "    <tr>\n",
       "      <th>0</th>\n",
       "      <td>Berlin</td>\n",
       "      <td>2500 €</td>\n",
       "      <td>145 m²</td>\n",
       "      <td>5</td>\n",
       "      <td>Berlin</td>\n",
       "      <td>1.400 €</td>\n",
       "      <td>72 m²</td>\n",
       "      <td>2</td>\n",
       "    </tr>\n",
       "    <tr>\n",
       "      <th>1</th>\n",
       "      <td>Berlin</td>\n",
       "      <td>690 €</td>\n",
       "      <td>68 m²</td>\n",
       "      <td>2</td>\n",
       "      <td>Berlin</td>\n",
       "      <td>1.320 €</td>\n",
       "      <td>75 m²</td>\n",
       "      <td>3</td>\n",
       "    </tr>\n",
       "    <tr>\n",
       "      <th>2</th>\n",
       "      <td>Berlin</td>\n",
       "      <td>1165 €</td>\n",
       "      <td>136 m²</td>\n",
       "      <td>4</td>\n",
       "      <td>Berlin</td>\n",
       "      <td>800 €</td>\n",
       "      <td>50 m²</td>\n",
       "      <td>1,5</td>\n",
       "    </tr>\n",
       "    <tr>\n",
       "      <th>3</th>\n",
       "      <td>Berlin</td>\n",
       "      <td>840 €</td>\n",
       "      <td>100 m²</td>\n",
       "      <td>3</td>\n",
       "      <td>Berlin</td>\n",
       "      <td>500 €</td>\n",
       "      <td>40 m²</td>\n",
       "      <td>2</td>\n",
       "    </tr>\n",
       "    <tr>\n",
       "      <th>4</th>\n",
       "      <td>Berlin</td>\n",
       "      <td>978 €</td>\n",
       "      <td>85 m²</td>\n",
       "      <td>3</td>\n",
       "      <td>Berlin</td>\n",
       "      <td>1.500 €</td>\n",
       "      <td>110 m²</td>\n",
       "      <td>3,5</td>\n",
       "    </tr>\n",
       "    <tr>\n",
       "      <th>...</th>\n",
       "      <td>...</td>\n",
       "      <td>...</td>\n",
       "      <td>...</td>\n",
       "      <td>...</td>\n",
       "      <td>...</td>\n",
       "      <td>...</td>\n",
       "      <td>...</td>\n",
       "      <td>...</td>\n",
       "    </tr>\n",
       "    <tr>\n",
       "      <th>26610</th>\n",
       "      <td>Stuttgart</td>\n",
       "      <td>980 €</td>\n",
       "      <td>102 m²</td>\n",
       "      <td>3,5</td>\n",
       "      <td>Stuttgart</td>\n",
       "      <td>1.400 €</td>\n",
       "      <td>90 m²</td>\n",
       "      <td>3,5</td>\n",
       "    </tr>\n",
       "    <tr>\n",
       "      <th>26611</th>\n",
       "      <td>Stuttgart</td>\n",
       "      <td>1100 €</td>\n",
       "      <td>80 m²</td>\n",
       "      <td>3</td>\n",
       "      <td>Stuttgart</td>\n",
       "      <td>600 €</td>\n",
       "      <td>40 m²</td>\n",
       "      <td>2</td>\n",
       "    </tr>\n",
       "    <tr>\n",
       "      <th>26612</th>\n",
       "      <td>Stuttgart</td>\n",
       "      <td>780 €</td>\n",
       "      <td>74 m²</td>\n",
       "      <td>3,5</td>\n",
       "      <td>Stuttgart</td>\n",
       "      <td>1.400 €</td>\n",
       "      <td>90 m²</td>\n",
       "      <td>4</td>\n",
       "    </tr>\n",
       "    <tr>\n",
       "      <th>26613</th>\n",
       "      <td>Stuttgart</td>\n",
       "      <td>895 €</td>\n",
       "      <td>68 m²</td>\n",
       "      <td>2</td>\n",
       "      <td>Stuttgart</td>\n",
       "      <td>1.600 €</td>\n",
       "      <td>75 m²</td>\n",
       "      <td>3</td>\n",
       "    </tr>\n",
       "    <tr>\n",
       "      <th>26614</th>\n",
       "      <td>Stuttgart</td>\n",
       "      <td>425 €</td>\n",
       "      <td>50 m²</td>\n",
       "      <td>2</td>\n",
       "      <td>Stuttgart</td>\n",
       "      <td>2.000 €</td>\n",
       "      <td>100 m²</td>\n",
       "      <td>4</td>\n",
       "    </tr>\n",
       "  </tbody>\n",
       "</table>\n",
       "<p>26615 rows × 8 columns</p>\n",
       "</div>"
      ],
      "text/plain": [
       "          g-city  g-rent  g-surf g-rooms     t-city t-max-rent t-surf-min   \n",
       "0         Berlin  2500 €  145 m²       5     Berlin    1.400 €      72 m²  \\\n",
       "1         Berlin   690 €   68 m²       2     Berlin    1.320 €      75 m²   \n",
       "2         Berlin  1165 €  136 m²       4     Berlin      800 €      50 m²   \n",
       "3         Berlin   840 €  100 m²       3     Berlin      500 €      40 m²   \n",
       "4         Berlin   978 €   85 m²       3     Berlin    1.500 €     110 m²   \n",
       "...          ...     ...     ...     ...        ...        ...        ...   \n",
       "26610  Stuttgart   980 €  102 m²     3,5  Stuttgart    1.400 €      90 m²   \n",
       "26611  Stuttgart  1100 €   80 m²       3  Stuttgart      600 €      40 m²   \n",
       "26612  Stuttgart   780 €   74 m²     3,5  Stuttgart    1.400 €      90 m²   \n",
       "26613  Stuttgart   895 €   68 m²       2  Stuttgart    1.600 €      75 m²   \n",
       "26614  Stuttgart   425 €   50 m²       2  Stuttgart    2.000 €     100 m²   \n",
       "\n",
       "      t-rooms  \n",
       "0           2  \n",
       "1           3  \n",
       "2         1,5  \n",
       "3           2  \n",
       "4         3,5  \n",
       "...       ...  \n",
       "26610     3,5  \n",
       "26611       2  \n",
       "26612       4  \n",
       "26613       3  \n",
       "26614       4  \n",
       "\n",
       "[26615 rows x 8 columns]"
      ]
     },
     "execution_count": 15,
     "metadata": {},
     "output_type": "execute_result"
    }
   ],
   "source": [
    "df = pd.read_csv('./data/clean_data_tauschwohnung.csv', index_col=\"Unnamed: 0\")\n",
    "df"
   ]
  },
  {
   "cell_type": "code",
   "execution_count": 14,
   "metadata": {},
   "outputs": [
    {
     "data": {
      "text/plain": [
       "'72\\xa0m²'"
      ]
     },
     "execution_count": 14,
     "metadata": {},
     "output_type": "execute_result"
    }
   ],
   "source": [
    "df['t-surf-min'][0]"
   ]
  },
  {
   "cell_type": "code",
   "execution_count": 11,
   "metadata": {},
   "outputs": [
    {
     "data": {
      "text/plain": [
       "26501"
      ]
     },
     "execution_count": 11,
     "metadata": {},
     "output_type": "execute_result"
    }
   ],
   "source": [
    "np.isnan(df[\"t-surf-min\"]).sum()"
   ]
  },
  {
   "cell_type": "code",
   "execution_count": 14,
   "metadata": {},
   "outputs": [
    {
     "data": {
      "text/plain": [
       "0.06733832773615775"
      ]
     },
     "execution_count": 14,
     "metadata": {},
     "output_type": "execute_result"
    }
   ],
   "source": [
    "len(df[(df[\"g-city\"] == \"Berlin\") & (df[\"t-city\"] != \"Berlin\")]) / len(df[df[\"g-city\"] == \"Berlin\"])"
   ]
  }
 ],
 "metadata": {
  "kernelspec": {
   "display_name": ".venv",
   "language": "python",
   "name": "python3"
  },
  "language_info": {
   "codemirror_mode": {
    "name": "ipython",
    "version": 3
   },
   "file_extension": ".py",
   "mimetype": "text/x-python",
   "name": "python",
   "nbconvert_exporter": "python",
   "pygments_lexer": "ipython3",
   "version": "3.9.0"
  },
  "orig_nbformat": 4
 },
 "nbformat": 4,
 "nbformat_minor": 2
}
